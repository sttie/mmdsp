{
 "cells": [
  {
   "cell_type": "code",
   "execution_count": 1,
   "id": "cf5d0e8b-5ae6-429c-bd7a-070c9461b1b4",
   "metadata": {},
   "outputs": [],
   "source": [
    "import librosa as rosa\n",
    "import matplotlib.pyplot as plt\n",
    "import numpy as np\n",
    "import math\n",
    "import pandas as pd"
   ]
  },
  {
   "cell_type": "code",
   "execution_count": 16,
   "id": "bdd905e9-7888-4ceb-873c-037c1dc9b241",
   "metadata": {},
   "outputs": [
    {
     "data": {
      "text/plain": [
       "[<matplotlib.lines.Line2D at 0x17c5f2d90>]"
      ]
     },
     "execution_count": 16,
     "metadata": {},
     "output_type": "execute_result"
    },
    {
     "data": {
      "image/png": "[encoded data removed]",
      "text/plain": [
       "<Figure size 640x480 with 1 Axes>"
      ]
     },
     "metadata": {},
     "output_type": "display_data"
    }
   ],
   "source": [
    "x, N1 = rosa.load(\"DTMF_Lab1.wav\", sr=None)\n",
    "plt.plot(x)"
   ]
  },
  {
   "cell_type": "code",
   "execution_count": 17,
   "id": "1506038c-4aae-435b-b02b-1a93f6085909",
   "metadata": {},
   "outputs": [],
   "source": [
    "goertzel_freq = 8132\n",
    "gap = int(N1 / 5)"
   ]
  },
  {
   "cell_type": "code",
   "execution_count": 25,
   "id": "5a23ca9c-7897-4574-8e16-9032d07d1bdc",
   "metadata": {},
   "outputs": [],
   "source": [
    "k_group_1 = [697, 770, 852, 941]\n",
    "k_group_2 = [1209, 1336, 1477, 1633]\n",
    "\n",
    "def goertzel(x, N, k):\n",
    "    c = 2 * np.cos(2 * math.pi * k / N1)\n",
    "    g1, g2 = 0, 0\n",
    "    for s in x:\n",
    "        g = s + c * g1 - g2\n",
    "        g2 = g1\n",
    "        g1 = g\n",
    "    mag = np.sqrt(g2 ** 2 + g1 ** 2 - c * g1 * g2)\n",
    "    return mag\n",
    "\n",
    "def find_k(group, x, N):\n",
    "    result_k = 0\n",
    "    X_max = 0\n",
    "    for k in group:\n",
    "        X_k = goertzel(x, N, k)\n",
    "        if X_k > X_max:\n",
    "            X_max = X_k\n",
    "            result_k = k\n",
    "    \n",
    "    return result_k\n",
    "\n",
    "def find_ks(x, N):\n",
    "    return find_k(k_group_1, x, N), find_k(k_group_2, x, N)\n"
   ]
  },
  {
   "cell_type": "code",
   "execution_count": 26,
   "id": "5216c85d-e235-4dbb-9ffe-422c96dcce86",
   "metadata": {},
   "outputs": [
    {
     "data": {
      "text/html": [
       "<div>\n",
       "<style scoped>\n",
       "    .dataframe tbody tr th:only-of-type {\n",
       "        vertical-align: middle;\n",
       "    }\n",
       "\n",
       "    .dataframe tbody tr th {\n",
       "        vertical-align: top;\n",
       "    }\n",
       "\n",
       "    .dataframe thead th {\n",
       "        text-align: right;\n",
       "    }\n",
       "</style>\n",
       "<table border=\"1\" class=\"dataframe\">\n",
       "  <thead>\n",
       "    <tr style=\"text-align: right;\">\n",
       "      <th></th>\n",
       "      <th>1209</th>\n",
       "      <th>1336</th>\n",
       "      <th>1477</th>\n",
       "      <th>1633</th>\n",
       "    </tr>\n",
       "  </thead>\n",
       "  <tbody>\n",
       "    <tr>\n",
       "      <th>697</th>\n",
       "      <td>1</td>\n",
       "      <td>2</td>\n",
       "      <td>3</td>\n",
       "      <td>A</td>\n",
       "    </tr>\n",
       "    <tr>\n",
       "      <th>770</th>\n",
       "      <td>4</td>\n",
       "      <td>5</td>\n",
       "      <td>6</td>\n",
       "      <td>B</td>\n",
       "    </tr>\n",
       "    <tr>\n",
       "      <th>852</th>\n",
       "      <td>7</td>\n",
       "      <td>8</td>\n",
       "      <td>9</td>\n",
       "      <td>C</td>\n",
       "    </tr>\n",
       "    <tr>\n",
       "      <th>941</th>\n",
       "      <td>*</td>\n",
       "      <td>0</td>\n",
       "      <td>#</td>\n",
       "      <td>D</td>\n",
       "    </tr>\n",
       "  </tbody>\n",
       "</table>\n",
       "</div>"
      ],
      "text/plain": [
       "    1209 1336 1477 1633\n",
       "697    1    2    3    A\n",
       "770    4    5    6    B\n",
       "852    7    8    9    C\n",
       "941    *    0    #    D"
      ]
     },
     "execution_count": 26,
     "metadata": {},
     "output_type": "execute_result"
    }
   ],
   "source": [
    "table = pd.DataFrame(data = [[1, 2, 3, \"A\"], [4, 5, 6, \"B\"], [7, 8, 9, \"C\"], [\"*\", \"0\", \"#\", \"D\"]], \n",
    "             index=k_group_1, columns=k_group_2)\n",
    "table"
   ]
  },
  {
   "cell_type": "code",
   "execution_count": 23,
   "id": "e3e55881-27ed-46e4-83d3-3059effb1234",
   "metadata": {},
   "outputs": [],
   "source": [
    "point = 0\n",
    "buttons = []\n",
    "while point + gap < x.size:\n",
    "    ks = find_ks(x[point:point + gap], 8192)\n",
    "    buttons.append(table.loc[ks[0], ks[1]])\n",
    "    point = point + gap + gap // 2"
   ]
  },
  {
   "cell_type": "code",
   "execution_count": 24,
   "id": "49e0402f-c0de-45ac-82ba-5459739af50c",
   "metadata": {},
   "outputs": [
    {
     "data": {
      "text/plain": [
       "[1, 'A', 2, 'B', 3, 'C', 4, 'D', 5, '*', 6, '#', 7, 'A', 8, 'B']"
      ]
     },
     "execution_count": 24,
     "metadata": {},
     "output_type": "execute_result"
    }
   ],
   "source": [
    "buttons\n",
    "# # [1, 'A', 2, 'B', 3, 'C', 4, 'D', 5, '*', 6, '#', 7, 'A', 8, 'B']"
   ]
  }
 ],
 "metadata": {
  "kernelspec": {
   "display_name": "Python 3 (ipykernel)",
   "language": "python",
   "name": "python3"
  },
  "language_info": {
   "codemirror_mode": {
    "name": "ipython",
    "version": 3
   },
   "file_extension": ".py",
   "mimetype": "text/x-python",
   "name": "python",
   "nbconvert_exporter": "python",
   "pygments_lexer": "ipython3",
   "version": "3.9.6"
  }
 },
 "nbformat": 4,
 "nbformat_minor": 5
}
